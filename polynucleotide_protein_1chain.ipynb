{
 "cells": [
  {
   "cell_type": "markdown",
   "metadata": {},
   "source": [
    "#####################################################################################################################<br>\n",
    "Python script to construct and run simulations of intrinsically disordered proteins<br>\n",
    "and polynucleotides using the extended HPS model[1] <br>\n",
    "[1]  Sequence dependent co-phase separation of protein-polynucleotide mixtures elucidated using molecular simulations<br>\n",
    "    RM Regy, GL Dignon, W Zheng, YC Kim, J Mittal - Nucleic Acids Research<br>\n",
    "<br>\n",
    "Authors: Roshan M Regy, Wenwei Zheng, Gregory L. Dignon, Jeetain Mittal <br>\n",
    "#####################################################################################################################<br>\n",
    "Prerequisities: This code was tested using HOOMD v2.9.3 with azplugins installed and GSD v2.2.0 <br>\n",
    "<br>\n",
    "Usage: python polynucleotide_protein_1chain.py One_letter_amino_acid_sequence_file length_of_polyA<br>\n",
    "<br>\n",
    "This code has the following steps:<br>\n",
    "<br>\n",
    "(1) Create a single chain initial configuration of the protein and polynucleotide as linear polymer chains --> generates start.gsd <br>\n",
    "<br>\n",
    "(2) Run a NVT simulation at user defined temperature and time step and for user defined number of steps<br>\n",
    "  --> generates production.dcd, restart_tmp1.gsd, restart_tmp2.gsd, production.log, stress.log  <br>\n",
    "#####################################################################################################################"
   ]
  },
  {
   "cell_type": "code",
   "execution_count": null,
   "metadata": {},
   "outputs": [],
   "source": [
    "import sys,os,numpy as np\n",
    "import hoomd, hoomd.md as md\n",
    "import hoomd.deprecated as old\n",
    "from hoomd import azplugins\n",
    "import gsd, gsd.hoomd, gsd.pygsd \n",
    "aaparams='''#AA     Mass    Charge  Sigma   Lambda\n",
    "ALA     71.08   0.00    5.040   0.730\n",
    "ARG     156.20  1.00    6.560   0.000\n",
    "ASN     114.10  0.00    5.680   0.432\n",
    "ASP     115.10  -1.00   5.580   0.378\n",
    "CYS     103.10  0.00    5.480   0.595\n",
    "GLN     128.10  0.00    6.020   0.514\n",
    "GLU     129.10  -1.00   5.920   0.459\n",
    "GLY     57.05   0.00    4.500   0.649\n",
    "HIS     137.10  0.5    6.080   0.514\n",
    "ILE     113.20  0.00    6.180   0.973\n",
    "LEU     113.20  0.00    6.180   0.973\n",
    "LYS     128.20  1.00    6.360   0.514\n",
    "MET     131.20  0.00    6.180   0.838\n",
    "PHE     147.20  0.00    6.360   1.000\n",
    "PRO     97.12   0.00    5.560   1.000\n",
    "SER     87.08   0.00    5.180   0.595\n",
    "THR     101.10  0.00    5.620   0.676\n",
    "TRP     186.20  0.00    6.780   0.946\n",
    "TYR     163.20  0.00    6.460   0.865\n",
    "VAL     99.07   0.00    5.860   0.892'''\n",
    "# Length of polynucleotide\n",
    "polyAlength = int(sys.argv[2])\n",
    "# PRODUCTION RUN PARAMETERS\n",
    "production_dt=0.01 # Time step for production run in picoseconds\n",
    "production_steps=100000000 # Total number of steps \n",
    "production_T=190 # Temperature for production run in Kelvin"
   ]
  },
  {
   "cell_type": "code",
   "execution_count": null,
   "metadata": {},
   "outputs": [],
   "source": [
    "seq={'R':'ARG','H':'HIS','K':'LYS','D':'ASP','E':'GLU',\n",
    "     'S':'SER','T':'THR','N':'ASN','Q':'GLN','C':'CYS',\n",
    "     'U':'SEC','G':'GLY','P':'PRO','A':'ALA','V':'VAL',\n",
    "     'I':'ILE','L':'LEU','M':'MET','F':'PHE','Y':'TYR',\n",
    "     'W':'TRP'}"
   ]
  },
  {
   "cell_type": "markdown",
   "metadata": {},
   "source": [
    "##### Read one letter amino acid sequence from file"
   ]
  },
  {
   "cell_type": "code",
   "execution_count": null,
   "metadata": {},
   "outputs": [],
   "source": [
    "filein = sys.argv[1]\n",
    "fileout='%s_seq3.dat'%(filein)\n",
    "nline=1\n",
    "count=0\n",
    "fout=open(fileout,'w')\n",
    "with open(filein,'r') as fid:\n",
    "    for i in fid:\n",
    "        if i[0]!='#':\n",
    "            for j in i:\n",
    "                if j in seq:\n",
    "                    fout.write(' %s'%seq[j])\n",
    "                    count+=1\n",
    "                    if count==nline:\n",
    "                        fout.write('\\n')\n",
    "                        count=0\n",
    "fout.close()"
   ]
  },
  {
   "cell_type": "markdown",
   "metadata": {},
   "source": [
    "#### 1.2 Read sequence and force field parameters<br>\n",
    "##### Input parameters for all the amino acids (force field)"
   ]
  },
  {
   "cell_type": "code",
   "execution_count": null,
   "metadata": {},
   "outputs": [],
   "source": [
    "ff_para = 'stats_module.dat'\n",
    "aalist={}\n",
    "with open(ff_para,'r') as fid:\n",
    "    for i in fid:\n",
    "        if i[0]!='#':\n",
    "            tmp=i.rsplit()\n",
    "            aalist[tmp[0]]=np.loadtxt(tmp[1:],dtype=float)\n",
    "aakeys=list(aalist.keys())\n",
    "# This translates each amino acid type into a number, which will be used in HOOMD\n",
    "# For example, GLY is with an ID of 10\n",
    "aamass=[]\n",
    "aacharge=[]\n",
    "aaradius=[]\n",
    "aahps=[]\n",
    "print ('aakeys')\n",
    "print (aakeys)\n",
    "print ('aalist[i][1]')\n",
    "print (aalist[aakeys[1]][1])\n",
    "for i in aakeys:\n",
    "    aamass.append(aalist[i][0])\n",
    "    aacharge.append(aalist[i][1])\n",
    "    aaradius.append(aalist[i][2])\n",
    "    aahps.append(aalist[i][3])\n",
    "# Now we can translate the entire sequence into a number code according to the order in 'aakeys'\n",
    "chain_id=[]\n",
    "chain_mass=[]\n",
    "chain_charge=[]\n",
    "with open(fileout,'r') as fid:\n",
    "    for i in fid:\n",
    "        iname=i.rsplit()[0]\n",
    "        chain_id.append(aakeys.index(iname))\n",
    "        chain_mass.append(aalist[iname][0])\n",
    "        chain_charge.append(aalist[iname][1])"
   ]
  },
  {
   "cell_type": "code",
   "execution_count": null,
   "metadata": {},
   "outputs": [],
   "source": [
    "pbond_length=0.38\n",
    "chain_length=len(chain_id)\n",
    "# Add RNA chains \n",
    "rbond_length=0.5\n",
    "for i in range(polyAlength):\n",
    "    chain_id.append(len(aakeys)-1)\n",
    "    chain_mass.append(329.2)\n",
    "    chain_charge.append(-1)"
   ]
  },
  {
   "cell_type": "markdown",
   "metadata": {},
   "source": [
    "ox_length=np.max([pbond_length*chain_length,rbond_length*polyAlength])+10"
   ]
  },
  {
   "cell_type": "code",
   "execution_count": null,
   "metadata": {},
   "outputs": [],
   "source": [
    "box_length=200\n",
    "print ('box length')\n",
    "print (box_length)\n",
    "# #### 1.3 Now we can build HOOMD data structure for one single frame\n",
    "s=gsd.hoomd.Snapshot()\n",
    "s.particles.N = chain_length+polyAlength\n",
    "print ('aakeys')\n",
    "print (aakeys)\n",
    "s.particles.types = aakeys\n",
    "s.particles.typeid = chain_id\n",
    "s.particles.mass = chain_mass\n",
    "s.particles.charge = chain_charge"
   ]
  },
  {
   "cell_type": "markdown",
   "metadata": {},
   "source": [
    " Build initial position as a linear chain"
   ]
  },
  {
   "cell_type": "code",
   "execution_count": null,
   "metadata": {},
   "outputs": [],
   "source": [
    "pos=[]\n",
    "for i in range(chain_length):\n",
    "    # Change the z-coordinate to have a linear chain\n",
    "    pos.append((0,0,(i-int(chain_length/2))*pbond_length))\n",
    "    print ((i-int(chain_length/2))*pbond_length)"
   ]
  },
  {
   "cell_type": "code",
   "execution_count": null,
   "metadata": {},
   "outputs": [],
   "source": [
    "for i in range(polyAlength):\n",
    "    pos.append((5,0,(i-int(polyAlength/2))*rbond_length))\n",
    "    print ((i-int(polyAlength/2))*rbond_length)\n",
    "pos=np.array(pos)\n",
    "s.particles.position= pos"
   ]
  },
  {
   "cell_type": "markdown",
   "metadata": {},
   "source": [
    "Initialize bond"
   ]
  },
  {
   "cell_type": "code",
   "execution_count": null,
   "metadata": {},
   "outputs": [],
   "source": [
    "nbonds=chain_length-1+polyAlength-1\n",
    "s.bonds.N = nbonds\n",
    "s.bonds.types = ['AA_bond','NT_bond']\n",
    "s.bonds.typeid = [0]*(chain_length-1)+[1]*(polyAlength-1)\n",
    "bond_pairs=np.zeros((nbonds,2),dtype=int)\n",
    "for i in range(0,chain_length-1):\n",
    "    print ('%s-%s-A'%(i,i+1))\n",
    "    bond_pairs[i,:] = np.array([i,i+1])\n",
    "for cnt,i in enumerate(range(chain_length,nbonds+1)):\n",
    "    print ('%s-%s-B'%(i,i+1))\n",
    "    bond_pairs[cnt+chain_length-1,:] = np.array([i,i+1])\n",
    "s.bonds.group = bond_pairs\n",
    "print (bond_pairs)\n",
    "# Box size\n",
    "s.configuration.dimensions=3\n",
    "s.configuration.box=[box_length,box_length,box_length,0,0,0]\n",
    "s.configuration.step=0"
   ]
  },
  {
   "cell_type": "markdown",
   "metadata": {},
   "source": [
    "#### 1.4 Write intial singe chain gsd file"
   ]
  },
  {
   "cell_type": "code",
   "execution_count": null,
   "metadata": {},
   "outputs": [],
   "source": [
    "f = gsd.hoomd.open(name='start.gsd', mode='wb')\n",
    "f.append(s)\n",
    "f.close()\n",
    "#################################################################################################\n",
    "# ## start.gsd contains one single chain of the given protein \n",
    "# ----------------------------------------------------------------------------------------------\n",
    "# ## 4.0. Run a simulation using start.gsd created in the previous step\n",
    "################################################################################################\n",
    "hoomd.context.initialize()\n",
    "system = hoomd.init.read_gsd('start.gsd')"
   ]
  },
  {
   "cell_type": "code",
   "execution_count": null,
   "metadata": {},
   "outputs": [],
   "source": [
    "n_steps = production_steps # 1 microseconds"
   ]
  },
  {
   "cell_type": "code",
   "execution_count": null,
   "metadata": {},
   "outputs": [],
   "source": [
    "fileroot = 'Production'\n",
    "nl = hoomd.md.nlist.cell()"
   ]
  },
  {
   "cell_type": "markdown",
   "metadata": {},
   "source": [
    " Bonds"
   ]
  },
  {
   "cell_type": "code",
   "execution_count": null,
   "metadata": {},
   "outputs": [],
   "source": [
    "harmonic = hoomd.md.bond.harmonic()\n",
    "harmonic.bond_coeff.set('AA_bond', k=8360, r0=0.381)\n",
    "harmonic.bond_coeff.set('NT_bond', k=8360, r0=0.5)\n",
    "## Nonbonded\n",
    "nl.reset_exclusions(exclusions=['1-2', 'body'])\n",
    "nb = azplugins.pair.ashbaugh(r_cut=0, nlist=nl)\n",
    "for i in aakeys:\n",
    "    for j in aakeys:\n",
    "        nb.pair_coeff.set(i,j,lam=(aalist[i][3]+aalist[j][3])/2.,\n",
    "                          epsilon=0.8368, sigma=(aalist[i][2]+aalist[j][2])/10./2.,r_cut=2.0)    "
   ]
  },
  {
   "cell_type": "markdown",
   "metadata": {},
   "source": [
    " Electrostatics"
   ]
  },
  {
   "cell_type": "code",
   "execution_count": null,
   "metadata": {},
   "outputs": [],
   "source": [
    "yukawa = hoomd.md.pair.yukawa(r_cut=0.0, nlist=nl)\n",
    "for i,atom1 in enumerate(aakeys):\n",
    "    for j,atom2 in enumerate(aakeys):\n",
    "        yukawa.pair_coeff.set(atom1,atom2,epsilon=aalist[atom1][1]*aalist[atom2][1]*1.73136, kappa=1.0, r_cut=3.5) "
   ]
  },
  {
   "cell_type": "markdown",
   "metadata": {},
   "source": [
    " Group Particles"
   ]
  },
  {
   "cell_type": "code",
   "execution_count": null,
   "metadata": {},
   "outputs": [],
   "source": [
    "all = hoomd.group.all()"
   ]
  },
  {
   "cell_type": "markdown",
   "metadata": {},
   "source": [
    " Set up integrator"
   ]
  },
  {
   "cell_type": "code",
   "execution_count": null,
   "metadata": {},
   "outputs": [],
   "source": [
    "hoomd.md.integrate.mode_standard(dt=production_dt) # Time units in ps\n",
    "temp = production_T*0.00831446\n",
    "integrator = hoomd.md.integrate.langevin(group=all, kT=temp, seed=399991) # Temp is kT/0.00831446\n",
    "for cnt,i in enumerate(aakeys):\n",
    "    integrator.set_gamma(i,gamma=aamass[cnt]/1000.0)\n",
    "## Outputs\n",
    "hoomd.analyze.log(filename=fileroot+'.log', quantities=['potential_energy', 'pressure_xx', 'pressure_yy', 'pressure_zz', 'temperature','lx','ly','lz'], period=100000, overwrite=False, header_prefix='#')\n",
    "hoomd.analyze.log(filename='stress.log', quantities=['pressure_xy', 'pressure_xz', 'pressure_yz'], period=100000, overwrite=False, header_prefix='#') # Output stress tensor?\n",
    "hoomd.dump.gsd('restart_tmp1.gsd', period=1000000, group=all, truncate=True)\n",
    "hoomd.dump.gsd('restart_tmp2.gsd', period=1000000, group=all, truncate=True, phase=500000)\n",
    "hoomd.dump.dcd(fileroot+'_dump.dcd', period=100000, group=all, overwrite=False)"
   ]
  },
  {
   "cell_type": "markdown",
   "metadata": {},
   "source": [
    " Run simulation"
   ]
  },
  {
   "cell_type": "code",
   "execution_count": null,
   "metadata": {},
   "outputs": [],
   "source": [
    "hoomd.run_upto(production_steps, limit_hours=48)\n",
    "########################################################################################################"
   ]
  }
 ],
 "metadata": {
  "kernelspec": {
   "display_name": "Python 3",
   "language": "python",
   "name": "python3"
  },
  "language_info": {
   "codemirror_mode": {
    "name": "ipython",
    "version": 3
   },
   "file_extension": ".py",
   "mimetype": "text/x-python",
   "name": "python",
   "nbconvert_exporter": "python",
   "pygments_lexer": "ipython3",
   "version": "3.7.8"
  }
 },
 "nbformat": 4,
 "nbformat_minor": 2
}
